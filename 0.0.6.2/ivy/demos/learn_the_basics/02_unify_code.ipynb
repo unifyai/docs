{
 "cells": [
  {
   "attachments": {},
   "cell_type": "markdown",
   "metadata": {},
   "source": [
    "# Unify code"
   ]
  },
  {
   "attachments": {},
   "cell_type": "markdown",
   "metadata": {},
   "source": [
    "Unify a simple `torch` function and use it alongside any ML framework!"
   ]
  },
  {
   "attachments": {},
   "cell_type": "markdown",
   "metadata": {},
   "source": [
    "⚠️ If you are running this notebook in Colab, you will have to install `Ivy` and some dependencies manually. You can do so by running the cell below ⬇️\n",
    "\n",
    "If you want to run the notebook locally but don't have Ivy installed just yet, you can check out the [Get Started section of the docs.](https://unify.ai/docs/ivy/overview/get_started.html)"
   ]
  },
  {
   "cell_type": "code",
   "execution_count": 1,
   "metadata": {},
   "outputs": [],
   "source": [
    "!pip install ivy"
   ]
  },
  {
   "attachments": {},
   "cell_type": "markdown",
   "metadata": {},
   "source": [
    "Firstly, let's import the dependencies and define a `torch` function."
   ]
  },
  {
   "cell_type": "code",
   "execution_count": null,
   "metadata": {},
   "outputs": [],
   "source": [
    "import ivy\n",
    "import torch\n",
    "\n",
    "def normalize(x):\n",
    "    mean = torch.mean(x)\n",
    "    std = torch.std(x)\n",
    "    return torch.div(torch.sub(x, mean), std)"
   ]
  },
  {
   "attachments": {},
   "cell_type": "markdown",
   "metadata": {},
   "source": [
    "By using `ivy.unify()`, you can convert any code from any framework into Ivy code, which as we have already seen, can be executed using any framework as the backend. \n",
    "\n",
    "Let's unify the function!"
   ]
  },
  {
   "cell_type": "code",
   "execution_count": 3,
   "metadata": {},
   "outputs": [],
   "source": [
    "normalize = ivy.unify(normalize, source=\"torch\", with_numpy=False)"
   ]
  },
  {
   "attachments": {},
   "cell_type": "markdown",
   "metadata": {},
   "source": [
    "And that's it! The `normalize` function can now be used with **any ML framework**. It's as simple as that!"
   ]
  },
  {
   "attachments": {},
   "cell_type": "markdown",
   "metadata": {},
   "source": [
    "So, let's give it a try!"
   ]
  },
  {
   "cell_type": "code",
   "execution_count": 4,
   "metadata": {},
   "outputs": [],
   "source": [
    "# import the frameworks\n",
    "import numpy as np\n",
    "import jax.numpy as jnp\n",
    "import tensorflow as tf"
   ]
  },
  {
   "cell_type": "code",
   "execution_count": 5,
   "metadata": {},
   "outputs": [
    {
     "name": "stdout",
     "output_type": "stream",
     "text": [
      "ivy.array([ 0.66391283, -1.12516928, -1.38367081,  0.03102401,  0.76419425,\n",
      "       -0.52797794,  1.90346956,  0.61316347, -0.27585283, -0.66309303])\n"
     ]
    },
    {
     "name": "stderr",
     "output_type": "stream",
     "text": [
      "/workspaces/tracer-transpiler/ivy_repo/ivy/utils/exceptions.py:383: UserWarning: The current backend: 'jax' does not support inplace updates natively. Ivy would quietly create new arrays when using inplace updates with this backend, leading to memory overhead (same applies for views). If you want to control your memory management, consider doing ivy.set_inplace_mode('strict') which should raise an error whenever an inplace update is attempted with this backend.\n",
      "  warnings.warn(\n"
     ]
    },
    {
     "name": "stdout",
     "output_type": "stream",
     "text": [
      "ivy.array([ 0.66391283, -1.12516928, -1.38367081,  0.03102401,  0.76419425,\n",
      "       -0.52797794,  1.90346956,  0.61316347, -0.27585283, -0.66309303])\n"
     ]
    },
    {
     "name": "stderr",
     "output_type": "stream",
     "text": [
      "/workspaces/tracer-transpiler/ivy_repo/ivy/utils/exceptions.py:383: UserWarning: The current backend: 'tensorflow' does not support inplace updates natively. Ivy would quietly create new arrays when using inplace updates with this backend, leading to memory overhead (same applies for views). If you want to control your memory management, consider doing ivy.set_inplace_mode('strict') which should raise an error whenever an inplace update is attempted with this backend.\n",
      "  warnings.warn(\n"
     ]
    },
    {
     "name": "stdout",
     "output_type": "stream",
     "text": [
      "ivy.array([ 0.66391283, -1.12516928, -1.38367081,  0.03102401,  0.76419425,\n",
      "       -0.52797794,  1.90346956,  0.61316347, -0.27585283, -0.66309303])\n",
      "ivy.array([ 0.66391283, -1.12516928, -1.38367081,  0.03102401,  0.76419425,\n",
      "       -0.52797794,  1.90346956,  0.61316347, -0.27585283, -0.66309303])\n"
     ]
    }
   ],
   "source": [
    "# create random numpy arrays for testing\n",
    "np.random.seed(123) # for reproducibility\n",
    "x = np.random.uniform(size=10).astype(np.float32)\n",
    "\n",
    "ivy.set_backend(\"numpy\")\n",
    "print(normalize(x))\n",
    "\n",
    "# jax\n",
    "x_ = jnp.array(x)\n",
    "ivy.set_backend(\"jax\")\n",
    "print(normalize(x_))\n",
    "\n",
    "# tensorflow\n",
    "x_ = tf.constant(x)\n",
    "ivy.set_backend(\"tensorflow\")\n",
    "print(normalize(x_))\n",
    "\n",
    "# torch\n",
    "x_ = torch.tensor(x)\n",
    "ivy.set_backend(\"torch\")\n",
    "print(normalize(x_))"
   ]
  },
  {
   "attachments": {},
   "cell_type": "markdown",
   "metadata": {},
   "source": [
    "We can see that the new `normalize` function can operate with any ML framework. `ivy.unify` converts the framework-specific `torch` implementation into a framework-agnostic `ivy` implementation, which is compatible with all frameworks."
   ]
  },
  {
   "attachments": {},
   "cell_type": "markdown",
   "metadata": {},
   "source": [
    "## Round Up"
   ]
  },
  {
   "attachments": {},
   "cell_type": "markdown",
   "metadata": {},
   "source": [
    "That's it, you can now unify ML code! However, there are several other important topics to master before you're ready to unify ML code like a pro 🥷. Next, we'll be learning how to make our unified Ivy code [run much more efficiently](03_trace_code.ipynb)! ⚡"
   ]
  }
 ],
 "metadata": {
  "kernelspec": {
   "display_name": "Python 3",
   "language": "python",
   "name": "python3"
  },
  "language_info": {
   "codemirror_mode": {
    "name": "ipython",
    "version": 3
   },
   "file_extension": ".py",
   "mimetype": "text/x-python",
   "name": "python",
   "nbconvert_exporter": "python",
   "pygments_lexer": "ipython3",
   "version": "3.10.0"
  }
 },
 "nbformat": 4,
 "nbformat_minor": 2
}
