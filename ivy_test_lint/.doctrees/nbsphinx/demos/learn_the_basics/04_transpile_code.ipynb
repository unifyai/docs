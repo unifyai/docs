{
 "cells": [
  {
   "attachments": {},
   "cell_type": "markdown",
   "metadata": {},
   "source": [
    "# Transpile code"
   ]
  },
  {
   "attachments": {},
   "cell_type": "markdown",
   "metadata": {},
   "source": [
    "Convert a `torch` function to `jax` with just one line of code."
   ]
  },
  {
   "attachments": {},
   "cell_type": "markdown",
   "metadata": {},
   "source": [
    "⚠️ If you are running this notebook in Colab, you will have to install `Ivy` and some dependencies manually. You can do so by running the cell below ⬇️\n",
    "\n",
    "If you want to run the notebook locally but don't have Ivy installed just yet, you can check out the [Get Started section of the docs.](https://unify.ai/docs/ivy/overview/get_started.html)"
   ]
  },
  {
   "cell_type": "code",
   "execution_count": null,
   "metadata": {},
   "outputs": [],
   "source": [
    "!pip install ivy"
   ]
  },
  {
   "attachments": {},
   "cell_type": "markdown",
   "metadata": {},
   "source": [
    "Using what we learnt in the previous two notebooks for [Unify](02_unify_code.ipynb) and [Compile](03_compile_code.ipynb), the workflow for converting directly from `torch` to `jax` would be as follows, first unifying to `ivy` code, and then compiling to the `jax` backend:"
   ]
  },
  {
   "cell_type": "code",
   "execution_count": 2,
   "metadata": {},
   "outputs": [],
   "source": [
    "import ivy\n",
    "import torch\n",
    "ivy.set_backend(\"jax\")\n",
    "\n",
    "def normalize(x):\n",
    "    mean = torch.mean(x)\n",
    "    std = torch.std(x)\n",
    "    return torch.div(torch.sub(x, mean), std)\n",
    "\n",
    "# convert the function to Ivy code\n",
    "ivy_normalize = ivy.unify(normalize)\n",
    "\n",
    "# compile the Ivy code into jax functions\n",
    "jax_normalize = ivy.compile(ivy_normalize)"
   ]
  },
  {
   "attachments": {},
   "cell_type": "markdown",
   "metadata": {},
   "source": [
    "`normalize` is now compiled to `jax`, ready to be integrated into your wider `jax` project.\n",
    "\n",
    "This workflow is common, and so in order to avoid repeated calls to `ivy.unify` followed by `ivy.compile`, there is another convenience function `ivy.transpile`, which basically acts as a shorthand for this pair of function calls:"
   ]
  },
  {
   "cell_type": "code",
   "execution_count": 3,
   "metadata": {},
   "outputs": [],
   "source": [
    "jax_normalize = ivy.transpile(normalize, source=\"torch\", to=\"jax\")"
   ]
  },
  {
   "attachments": {},
   "cell_type": "markdown",
   "metadata": {},
   "source": [
    "Again, `normalize` is now a `jax` function, ready to be integrated into your `jax` project."
   ]
  },
  {
   "cell_type": "code",
   "execution_count": 4,
   "metadata": {},
   "outputs": [
    {
     "name": "stdout",
     "output_type": "stream",
     "text": [
      "[-0.93968587  0.26075466 -0.22723222 -1.06276492 -0.47426987  1.72835908\n",
      "  1.71737559 -0.50411096 -0.65419174  0.15576624]\n"
     ]
    }
   ],
   "source": [
    "import jax\n",
    "\n",
    "key = jax.random.PRNGKey(42)\n",
    "jax.config.update('jax_enable_x64', True)\n",
    "x = jax.random.uniform(key, shape=(10,))\n",
    "\n",
    "print(jax_normalize(x))"
   ]
  },
  {
   "attachments": {},
   "cell_type": "markdown",
   "metadata": {},
   "source": [
    "## Round Up"
   ]
  },
  {
   "attachments": {},
   "cell_type": "markdown",
   "metadata": {},
   "source": [
    "That's it, you can now transpile code from one framework to another with one line of code! However, there are still other important topics to master before you're ready to unify ML code like a pro 🥷. In the next notebooks we'll be learning about the various different ways that `ivy.unify`, `ivy.compile` and `ivy.transpile` can be called, and what implications each of these have!"
   ]
  }
 ],
 "metadata": {
  "kernelspec": {
   "display_name": "Python 3",
   "language": "python",
   "name": "python3"
  },
  "language_info": {
   "codemirror_mode": {
    "name": "ipython",
    "version": 3
   },
   "file_extension": ".py",
   "mimetype": "text/x-python",
   "name": "python",
   "nbconvert_exporter": "python",
   "pygments_lexer": "ipython3",
   "version": "3.8.10"
  }
 },
 "nbformat": 4,
 "nbformat_minor": 2
}
