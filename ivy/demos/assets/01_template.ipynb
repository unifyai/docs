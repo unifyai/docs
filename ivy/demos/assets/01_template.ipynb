{
 "cells": [
  {
   "attachments": {},
   "cell_type": "markdown",
   "metadata": {},
   "source": [
    "# TO REPLACE: Title"
   ]
  },
  {
   "attachments": {},
   "cell_type": "markdown",
   "metadata": {},
   "source": [
    "TO REPLACE: description"
   ]
  },
  {
   "cell_type": "markdown",
   "metadata": {},
   "source": [
    "If you already have `Ivy` installed you can skip this cell, but if you are using Colab, you will have to install `Ivy` manually. You can do so by running the cell below ⬇️\n",
    "\n",
    "Keep in mind that for the package to be available, you will have to click on **\"Runtime > Restart Runtime\"** 😄"
   ]
  },
  {
   "cell_type": "code",
   "execution_count": null,
   "metadata": {},
   "outputs": [],
   "source": [
    "!pip install -q ivy\n",
    "!git clone https://github.com/unifyai/models.git --depth 1\n",
    "\n",
    "# Installing models package from cloned repository! 😄\n",
    "!cd models/ && pip install ."
   ]
  },
  {
   "cell_type": "code",
   "execution_count": null,
   "metadata": {},
   "outputs": [],
   "source": [
    "# TO REPLACE:\n",
    "# All contents start from here!\n",
    "# Use ## tag (h2) for section titles\n",
    "# Use ### tag (h3) for subsection titles\n",
    "# Use normal paragraph (p, no tag) for steps and explanations"
   ]
  }
 ],
 "metadata": {
  "language_info": {
   "name": "python"
  }
 },
 "nbformat": 4,
 "nbformat_minor": 2
}
