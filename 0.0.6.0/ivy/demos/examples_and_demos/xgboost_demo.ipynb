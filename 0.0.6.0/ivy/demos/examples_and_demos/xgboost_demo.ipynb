{
 "cells": [
  {
   "cell_type": "markdown",
   "metadata": {},
   "source": [
    "# Accelerating XGBoost with JAX"
   ]
  },
  {
   "cell_type": "markdown",
   "metadata": {
    "id": "Dqb00wToJB8N"
   },
   "source": [
    "⚠️ If you are running this notebook in Colab, you will have to install `Ivy` and some dependencies manually. You can do so by running the cell below ⬇️\n",
    "\n",
    "If you want to run the notebook locally but don't have Ivy installed just yet, you can check out the [Get Started section of the docs.](https://unify.ai/docs/ivy/overview/get_started.html)  \n",
    "\n",
    "Make sure you run this demo with GPU enabled!"
   ]
  },
  {
   "cell_type": "code",
   "execution_count": null,
   "metadata": {
    "colab": {
     "base_uri": "https://localhost:8080/"
    },
    "id": "l5lt2P0jJB8P",
    "outputId": "235c7635-35bd-430b-98a7-5c163864013f"
   },
   "outputs": [],
   "source": [
    "!pip install -q ivy\n",
    "!pip install -q xgboost ipytest pandas matplotlib scikit-learn torch cryptography"
   ]
  },
  {
   "cell_type": "markdown",
   "metadata": {
    "id": "3psdddkvskVL"
   },
   "source": [
    "# Imports"
   ]
  },
  {
   "cell_type": "code",
   "execution_count": null,
   "metadata": {
    "ExecuteTime": {
     "end_time": "2023-10-04T19:15:36.665004600Z",
     "start_time": "2023-10-04T19:15:34.300249400Z"
    },
    "colab": {
     "base_uri": "https://localhost:8080/"
    },
    "id": "e2ABfifnY_V9",
    "outputId": "652fce2c-1e5b-4aca-ba48-1711f23f2627"
   },
   "outputs": [],
   "source": [
    "import ivy; ivy.set_backend(\"jax\")\n",
    "import jax; jax.config.update(\"jax_enable_x64\", True)\n",
    "\n",
    "import ivy.functional.frontends.xgboost as xgb_frontend\n",
    "from sklearn.metrics import classification_report\n",
    "from sklearn.model_selection import train_test_split\n",
    "from sklearn.datasets import load_breast_cancer\n",
    "import matplotlib.pyplot as plt\n",
    "from timeit import timeit\n",
    "import xgboost as xgb\n",
    "import pandas as pd\n",
    "import functools\n",
    "import ipytest; ipytest.autoconfig()\n",
    "from tqdm import tqdm_notebook as tqdm\n",
    "\n",
    "ivy.set_soft_device_mode(True)"
   ]
  },
  {
   "cell_type": "markdown",
   "metadata": {
    "id": "BrBX_Al8sucY"
   },
   "source": [
    "# Tests\n",
    "These tests are solely used to verify we're running with GPU."
   ]
  },
  {
   "cell_type": "code",
   "execution_count": 4,
   "metadata": {
    "colab": {
     "base_uri": "https://localhost:8080/"
    },
    "id": "LxpdJsV9Y_V_",
    "outputId": "4b10e3e4-c8e7-4946-e18c-32211f173ff7"
   },
   "outputs": [
    {
     "name": "stdout",
     "output_type": "stream",
     "text": [
      "\u001b[32m.\u001b[0m\u001b[32m.\u001b[0m\u001b[32m.\u001b[0m\u001b[32m                                                                                          [100%]\u001b[0m\n",
      "\u001b[32m\u001b[32m\u001b[1m3 passed\u001b[0m\u001b[32m in 4.99s\u001b[0m\u001b[0m\n"
     ]
    }
   ],
   "source": [
    "%%ipytest\n",
    "# functions to verify we're running with GPU\n",
    "def test_jax_gpu():\n",
    "    from jax.lib import xla_bridge\n",
    "    assert xla_bridge.get_backend().platform == \"gpu\"\n",
    "\n",
    "def test_torch_gpu():\n",
    "    import torch\n",
    "    assert torch.cuda.is_available() == True\n",
    "\n",
    "def test_xgboost_gpu(capsys):\n",
    "    from sklearn.datasets import load_diabetes\n",
    "    dataset = load_diabetes()\n",
    "    X = dataset[\"data\"]\n",
    "    y = dataset[\"target\"]\n",
    "    xgb_model = xgb.XGBRegressor(\n",
    "        # If there is no GPU, the tree_method kwarg will cause either\n",
    "        # - an error in `xgb_model.fit(X, y)` or\n",
    "        # - a warning printed to the console.\n",
    "        tree_method=\"gpu_hist\"\n",
    "    )\n",
    "    xgb_model.fit(X, y)\n",
    "    captured = capsys.readouterr()\n",
    "    assert captured.out == \"\"\n",
    "    assert captured.err == \"\""
   ]
  },
  {
   "cell_type": "markdown",
   "metadata": {
    "id": "7W3Yst5neliN"
   },
   "source": [
    "# Loading the Data\n",
    "For comparing both implementations, we are using the [Binary Classification with a Tabular Pulsar Dataset](https://www.kaggle.com/competitions/playground-series-s3e10/data?select=train.csv). <br>\n",
    "The following functions are employed to load the data, preprocess it (removing the _id_ and _Class_ columns, as well as standardizing the features), and converting both arrays into __ivy.Array__, while also adding an extra dimension to the labels.\n"
   ]
  },
  {
   "cell_type": "code",
   "execution_count": 16,
   "metadata": {
    "ExecuteTime": {
     "end_time": "2023-10-04T19:20:32.696647500Z",
     "start_time": "2023-10-04T19:20:32.681659400Z"
    },
    "id": "lMY2vb3pY_WB"
   },
   "outputs": [],
   "source": [
    "def load_data(path):\n",
    "    from sklearn.preprocessing import StandardScaler\n",
    "\n",
    "    df = pd.read_csv(path, delimiter=\",\")\n",
    "    y = df.Class.to_numpy()\n",
    "    df.drop(columns=[\"id\", \"Class\"], inplace=True)\n",
    "\n",
    "    sc = StandardScaler()\n",
    "    df = sc.fit_transform(df)\n",
    "    return df, y\n",
    "\n",
    "def prepare_data(arrays):\n",
    "    if isinstance(arrays, tuple):\n",
    "        arrays = list(arrays)\n",
    "\n",
    "    for i in range(len(arrays)):\n",
    "        if len(arrays[i].shape) == 1:\n",
    "            arrays[i] = ivy.expand_dims(arrays[i], axis=1).astype(ivy.float32)\n",
    "        else:\n",
    "            arrays[i] = ivy.array(arrays[i], dtype=ivy.float32)\n",
    "    return arrays"
   ]
  },
  {
   "cell_type": "code",
   "execution_count": 17,
   "metadata": {
    "ExecuteTime": {
     "end_time": "2023-10-04T19:20:57.472136700Z",
     "start_time": "2023-10-04T19:20:57.045907Z"
    },
    "id": "677PAFtjY_WB"
   },
   "outputs": [],
   "source": [
    "X, y = prepare_data(load_data(\"data/train.csv\"))"
   ]
  },
  {
   "cell_type": "code",
   "execution_count": 18,
   "metadata": {
    "ExecuteTime": {
     "end_time": "2023-10-04T19:20:58.636825200Z",
     "start_time": "2023-10-04T19:20:58.629843800Z"
    },
    "colab": {
     "base_uri": "https://localhost:8080/"
    },
    "id": "rCsuXVPmY_WB",
    "outputId": "18b56ef7-550a-4f64-c294-a0613b5c3be5"
   },
   "outputs": [
    {
     "name": "stdout",
     "output_type": "stream",
     "text": [
      "Training data:  ivy.Shape(117564, 8)\n",
      "Training target:  ivy.Shape(117564, 1)\n"
     ]
    }
   ],
   "source": [
    "# Checking the number of instances and features in data\n",
    "print(\"Training data: \", X.shape)\n",
    "print(\"Training target: \", y.shape)"
   ]
  },
  {
   "cell_type": "markdown",
   "metadata": {
    "id": "Y1DhqkKxfLUz"
   },
   "source": [
    "# Comparing `xgb_frontend.XGBClassifier` and `xgb.XGBClassifier`\n",
    "Let's compare the training times of both implementations using various backends. The structure of the demo allows you to navigate to the backend of your choice without having to rerun most of the previous cells.\n",
    "\n",
    "`xgb_frontend.XGBClassifier` includes a `compile` method designed to optimize internal calculations, resulting in significant speed improvements."
   ]
  },
  {
   "cell_type": "markdown",
   "metadata": {
    "collapsed": false,
    "id": "eq1hlxELY_WC"
   },
   "source": [
    "## JAX  backend"
   ]
  },
  {
   "cell_type": "code",
   "execution_count": null,
   "metadata": {
    "colab": {
     "base_uri": "https://localhost:8080/"
    },
    "id": "0FodvmepY_WC",
    "outputId": "785116d2-8055-4cc5-bf85-14372a45ddc4"
   },
   "outputs": [],
   "source": [
    "params = {\n",
    "    \"objective\": \"binary:logistic\",\n",
    "    \"booster\": \"gblinear\",\n",
    "    \"n_estimators\": 100,\n",
    "    \"learning_rate\": 0.1,\n",
    "    \"reg_lambda\": 0.1,\n",
    "    \"reg_alpha\": 0.1,\n",
    "    \"base_margin\": None\n",
    "}\n",
    "\n",
    "xgb_cls = xgb.XGBClassifier(**params)\n",
    "\n",
    "# ivy-based XGBClassifier should be compiled for better performance\n",
    "ivy_cls = xgb_frontend.XGBClassifier(**params)\n",
    "ivy_cls.compile(X, y)"
   ]
  },
  {
   "cell_type": "code",
   "execution_count": 21,
   "metadata": {
    "colab": {
     "base_uri": "https://localhost:8080/"
    },
    "id": "-kZQEGucY_WD",
    "outputId": "8ef4a5ce-fa78-45f6-ec79-2c6e12880001"
   },
   "outputs": [
    {
     "name": "stdout",
     "output_type": "stream",
     "text": [
      "1.06 s ± 101 ms per loop (mean ± std. dev. of 7 runs, 10 loops each)\n"
     ]
    }
   ],
   "source": [
    "%%timeit -n 10\n",
    "xgb_cls.fit(X, y)"
   ]
  },
  {
   "cell_type": "code",
   "execution_count": 20,
   "metadata": {
    "colab": {
     "base_uri": "https://localhost:8080/"
    },
    "id": "BzqTHm6aY_WC",
    "outputId": "342e850b-b3d0-464f-c4f1-549d666819da"
   },
   "outputs": [
    {
     "name": "stdout",
     "output_type": "stream",
     "text": [
      "436 ms ± 48.5 ms per loop (mean ± std. dev. of 7 runs, 10 loops each)\n"
     ]
    }
   ],
   "source": [
    "%%timeit -n 10\n",
    "ivy_cls.fit(X, y)"
   ]
  },
  {
   "cell_type": "markdown",
   "metadata": {
    "id": "r_NOJjgngYyK"
   },
   "source": [
    "As you can see, when we **train** with the **JAX** backend and use compilation, it's much faster compared to the original way on T4 GPU on Colab! 🚀\n",
    "\n",
    "It's important to consider that the speed-up factor is dependent on the GPU, so it would be better on higher-tier GPUs than T4 and reduced on lower-tier GPUs, although our experiments consistently demonstrate that it still results in a substantial performance boost.\n",
    "\n",
    "Now, let's dive into predicting stuff and doing sanity check using the **classification_report** tool."
   ]
  },
  {
   "cell_type": "code",
   "execution_count": 23,
   "metadata": {
    "colab": {
     "base_uri": "https://localhost:8080/"
    },
    "id": "NDRsB_myJB8U",
    "outputId": "193ee94c-d1e6-4023-e51d-09fb38681020"
   },
   "outputs": [
    {
     "name": "stdout",
     "output_type": "stream",
     "text": [
      "30 ms ± 9.25 ms per loop (mean ± std. dev. of 7 runs, 100 loops each)\n"
     ]
    }
   ],
   "source": [
    "%timeit -n 100 xgb_cls.predict(X)"
   ]
  },
  {
   "cell_type": "code",
   "execution_count": 22,
   "metadata": {
    "colab": {
     "base_uri": "https://localhost:8080/"
    },
    "id": "74uae4ysJB8U",
    "outputId": "0bac2a1f-d3e9-428b-f958-57edbe918bed"
   },
   "outputs": [
    {
     "name": "stdout",
     "output_type": "stream",
     "text": [
      "1.56 ms ± 201 µs per loop (mean ± std. dev. of 7 runs, 100 loops each)\n"
     ]
    }
   ],
   "source": [
    "%timeit -n 100 ivy_cls.predict(X)"
   ]
  },
  {
   "cell_type": "markdown",
   "metadata": {
    "id": "AliAETqKiDgR"
   },
   "source": [
    "**~20x** faster **inference** on JAX backend!"
   ]
  },
  {
   "cell_type": "code",
   "execution_count": 24,
   "metadata": {
    "colab": {
     "base_uri": "https://localhost:8080/"
    },
    "id": "TpvLiK-IY_WD",
    "outputId": "64f88fd2-ba0a-4eec-a773-981e1fe943e1"
   },
   "outputs": [
    {
     "name": "stdout",
     "output_type": "stream",
     "text": [
      "IvyClassifier: \n",
      "               precision    recall  f1-score   support\n",
      "\n",
      "         0.0       0.94      1.00      0.97    106597\n",
      "         1.0       0.99      0.33      0.50     10967\n",
      "\n",
      "    accuracy                           0.94    117564\n",
      "   macro avg       0.96      0.67      0.73    117564\n",
      "weighted avg       0.94      0.94      0.92    117564\n",
      "\n",
      "\n",
      "XGBClassifier: \n",
      "               precision    recall  f1-score   support\n",
      "\n",
      "         0.0       0.94      1.00      0.97    106597\n",
      "         1.0       0.99      0.33      0.50     10967\n",
      "\n",
      "    accuracy                           0.94    117564\n",
      "   macro avg       0.96      0.67      0.73    117564\n",
      "weighted avg       0.94      0.94      0.92    117564\n",
      "\n"
     ]
    }
   ],
   "source": [
    "ivy_pred = ivy_cls.predict(X)\n",
    "xgb_pred = xgb_cls.predict(X)\n",
    "\n",
    "print(\"IvyClassifier: \\n\", classification_report(y, ivy_pred))\n",
    "print(\"\\nXGBClassifier: \\n\", classification_report(y, xgb_pred))"
   ]
  },
  {
   "cell_type": "markdown",
   "metadata": {
    "id": "Lrw7kG1NY_WD"
   },
   "source": [
    "## Tensorflow backend"
   ]
  },
  {
   "cell_type": "code",
   "execution_count": null,
   "metadata": {
    "colab": {
     "base_uri": "https://localhost:8080/"
    },
    "id": "fN2dQc3AY_WD",
    "outputId": "f6336c71-f48c-47f1-ecc4-25c48a2d599a"
   },
   "outputs": [],
   "source": [
    "ivy.set_backend(\"tensorflow\")\n",
    "X, y = prepare_data(load_data(\"data/train.csv\"))"
   ]
  },
  {
   "cell_type": "code",
   "execution_count": null,
   "metadata": {
    "colab": {
     "base_uri": "https://localhost:8080/"
    },
    "id": "pluF5DgiY_WE",
    "outputId": "21643b8e-0793-4c9e-f4ff-cae79a63d918"
   },
   "outputs": [],
   "source": [
    "params = {\n",
    "    \"objective\": \"binary:logistic\",\n",
    "    \"booster\": \"gblinear\",\n",
    "    \"n_estimators\": 100,\n",
    "    \"learning_rate\": 0.1,\n",
    "    \"reg_lambda\": 0.1,\n",
    "    \"reg_alpha\": 0.1,\n",
    "    \"base_margin\": None\n",
    "}\n",
    "\n",
    "xgb_cls = xgb.XGBClassifier(**params)\n",
    "\n",
    "ivy_cls = xgb_frontend.XGBClassifier(**params)\n",
    "ivy_cls.compile(X, y)"
   ]
  },
  {
   "cell_type": "code",
   "execution_count": 28,
   "metadata": {
    "colab": {
     "base_uri": "https://localhost:8080/"
    },
    "id": "uwBBeUQcY_WE",
    "outputId": "6fedc706-9bdd-49fb-927b-f2cf2ad9e9f2"
   },
   "outputs": [
    {
     "name": "stdout",
     "output_type": "stream",
     "text": [
      "1.06 s ± 102 ms per loop (mean ± std. dev. of 7 runs, 10 loops each)\n"
     ]
    }
   ],
   "source": [
    "%%timeit -n 10\n",
    "xgb_cls.fit(X, y)"
   ]
  },
  {
   "cell_type": "code",
   "execution_count": 27,
   "metadata": {
    "colab": {
     "base_uri": "https://localhost:8080/"
    },
    "id": "1OhJBVRfY_WE",
    "outputId": "7a2fde49-4f82-4112-fdc6-b2bb5c90b36b"
   },
   "outputs": [
    {
     "name": "stdout",
     "output_type": "stream",
     "text": [
      "852 ms ± 449 ms per loop (mean ± std. dev. of 7 runs, 10 loops each)\n"
     ]
    }
   ],
   "source": [
    "%%timeit -n 10\n",
    "ivy_cls.fit(X, y)"
   ]
  },
  {
   "cell_type": "code",
   "execution_count": 30,
   "metadata": {
    "colab": {
     "base_uri": "https://localhost:8080/"
    },
    "id": "Wdp2vODMWx3m",
    "outputId": "d8ba4db0-c8da-44e2-b170-f8bd58ee3d30"
   },
   "outputs": [
    {
     "name": "stdout",
     "output_type": "stream",
     "text": [
      "24.1 ms ± 7.47 ms per loop (mean ± std. dev. of 7 runs, 100 loops each)\n"
     ]
    }
   ],
   "source": [
    "%timeit -n 100 xgb_cls.predict(X)"
   ]
  },
  {
   "cell_type": "code",
   "execution_count": 29,
   "metadata": {
    "colab": {
     "base_uri": "https://localhost:8080/"
    },
    "id": "CNfdGbbiWwQf",
    "outputId": "329d784f-9219-4a0d-e35f-abbbee9173b1"
   },
   "outputs": [
    {
     "name": "stdout",
     "output_type": "stream",
     "text": [
      "2.82 ms ± 68.2 µs per loop (mean ± std. dev. of 7 runs, 100 loops each)\n"
     ]
    }
   ],
   "source": [
    "%timeit -n 100 ivy_cls.predict(X)"
   ]
  },
  {
   "cell_type": "markdown",
   "metadata": {
    "id": "_tuqU6KciRAQ"
   },
   "source": [
    "Training with the Tensorflow backend and enabling compilation does improve speed compared to the original implementation. Nevertheless, it falls short of the blazing ~20x speed-up achieved with the JAX backend."
   ]
  },
  {
   "cell_type": "markdown",
   "metadata": {
    "collapsed": false,
    "id": "PT9F6DWmY_WE"
   },
   "source": [
    "## PyTorch backend"
   ]
  },
  {
   "cell_type": "code",
   "execution_count": 31,
   "metadata": {
    "id": "-euacu0yY_WE"
   },
   "outputs": [],
   "source": [
    "ivy.set_backend(\"torch\")\n",
    "X, y = prepare_data(load_data(\"data/train.csv\"))"
   ]
  },
  {
   "cell_type": "code",
   "execution_count": 32,
   "metadata": {
    "id": "4qaue7eBY_WE"
   },
   "outputs": [],
   "source": [
    "params = {\n",
    "    \"objective\": \"binary:logistic\",\n",
    "    \"booster\": \"gblinear\",\n",
    "    \"n_estimators\": 100,\n",
    "    \"learning_rate\": 0.1,\n",
    "    \"reg_lambda\": 0.1,\n",
    "    \"reg_alpha\": 0.1,\n",
    "    \"base_margin\": None\n",
    "}\n",
    "\n",
    "xgb_cls = xgb.XGBClassifier(**params)\n",
    "\n",
    "ivy_cls = xgb_frontend.XGBClassifier(**params)\n",
    "ivy_cls.compile(X, y)"
   ]
  },
  {
   "cell_type": "code",
   "execution_count": 34,
   "metadata": {
    "colab": {
     "base_uri": "https://localhost:8080/"
    },
    "id": "k_rUG1yFY_WF",
    "outputId": "cc32e116-4aa9-42b5-a914-18c769c28da0"
   },
   "outputs": [
    {
     "name": "stdout",
     "output_type": "stream",
     "text": [
      "1.03 s ± 96.5 ms per loop (mean ± std. dev. of 7 runs, 10 loops each)\n"
     ]
    }
   ],
   "source": [
    "%%timeit -n 10\n",
    "xgb_cls.fit(X, y)"
   ]
  },
  {
   "cell_type": "code",
   "execution_count": 33,
   "metadata": {
    "colab": {
     "base_uri": "https://localhost:8080/"
    },
    "id": "KxRrcnQlY_WF",
    "outputId": "112a3e18-2ca6-40fb-818e-103c65083b3a"
   },
   "outputs": [
    {
     "name": "stdout",
     "output_type": "stream",
     "text": [
      "1.29 s ± 62 ms per loop (mean ± std. dev. of 7 runs, 10 loops each)\n"
     ]
    }
   ],
   "source": [
    "%%timeit -n 10\n",
    "ivy_cls.fit(X, y)"
   ]
  },
  {
   "cell_type": "code",
   "execution_count": 36,
   "metadata": {
    "colab": {
     "base_uri": "https://localhost:8080/"
    },
    "id": "V03KWRfkWtpi",
    "outputId": "74549f85-76ac-4458-d69b-0c556c57c3bf"
   },
   "outputs": [
    {
     "name": "stdout",
     "output_type": "stream",
     "text": [
      "27.5 ms ± 8.57 ms per loop (mean ± std. dev. of 7 runs, 100 loops each)\n"
     ]
    }
   ],
   "source": [
    "%timeit -n 100 xgb_cls.predict(X)"
   ]
  },
  {
   "cell_type": "code",
   "execution_count": 35,
   "metadata": {
    "colab": {
     "base_uri": "https://localhost:8080/"
    },
    "id": "8_e0xrZBWtFm",
    "outputId": "08e3c6dc-2f67-4984-c67c-0899125a3a67"
   },
   "outputs": [
    {
     "name": "stdout",
     "output_type": "stream",
     "text": [
      "3.37 ms ± 83.6 µs per loop (mean ± std. dev. of 7 runs, 100 loops each)\n"
     ]
    }
   ],
   "source": [
    "%timeit -n 100 ivy_cls.predict(X)"
   ]
  },
  {
   "cell_type": "markdown",
   "metadata": {
    "id": "6ksWTkM8jRv3"
   },
   "source": [
    "Running with the PyTorch backend surpasses the original version on inference, but, it still falls short of the remarkable results achieved with the JAX backend."
   ]
  },
  {
   "cell_type": "markdown",
   "metadata": {
    "id": "gB8LOMFGY_WF"
   },
   "source": [
    "## More exhaustive example\n",
    "Let's artificially increase the size of our dataset, simply stacking it, and run training with JAX backend and compilation."
   ]
  },
  {
   "cell_type": "code",
   "execution_count": 37,
   "metadata": {
    "id": "e3tFc6tlY_WF"
   },
   "outputs": [],
   "source": [
    "ivy.set_backend(\"jax\")\n",
    "X, y = prepare_data(load_data(\"data/train.csv\"))\n",
    "\n",
    "X_doubled = ivy.vstack([X, X])\n",
    "y_doubled = ivy.vstack([y, y])"
   ]
  },
  {
   "cell_type": "code",
   "execution_count": 38,
   "metadata": {
    "colab": {
     "base_uri": "https://localhost:8080/"
    },
    "id": "grcHiv6BY_WF",
    "outputId": "0d761704-ff06-4454-8dfa-c2502a48ebcd"
   },
   "outputs": [
    {
     "name": "stdout",
     "output_type": "stream",
     "text": [
      "Training data:  ivy.Shape(235128, 8)\n",
      "Training target:  ivy.Shape(235128, 1)\n"
     ]
    }
   ],
   "source": [
    "# explore the number of instances in the resulting dataset\n",
    "print(\"Training data: \", X_doubled.shape)\n",
    "print(\"Training target: \", y_doubled.shape)"
   ]
  },
  {
   "cell_type": "code",
   "execution_count": 39,
   "metadata": {
    "id": "I7qMzJxVY_WF"
   },
   "outputs": [],
   "source": [
    "params = {\n",
    "    \"objective\": \"binary:logistic\",\n",
    "    \"booster\": \"gblinear\",\n",
    "    \"n_estimators\": 100,\n",
    "    \"learning_rate\": 0.1,\n",
    "    \"reg_lambda\": 0.1,\n",
    "    \"reg_alpha\": 0.1,\n",
    "    \"base_margin\": None\n",
    "}\n",
    "\n",
    "xgb_cls = xgb.XGBClassifier(**params)\n",
    "\n",
    "ivy_cls = xgb_frontend.XGBClassifier(**params)\n",
    "ivy_cls.compile(X_doubled, y_doubled)"
   ]
  },
  {
   "cell_type": "code",
   "execution_count": 41,
   "metadata": {
    "colab": {
     "base_uri": "https://localhost:8080/"
    },
    "id": "9Z3S_v1iY_WF",
    "outputId": "25c73d6e-f74e-4b83-e545-7d3b93fd1cf3"
   },
   "outputs": [
    {
     "name": "stdout",
     "output_type": "stream",
     "text": [
      "2.3 s ± 315 ms per loop (mean ± std. dev. of 7 runs, 10 loops each)\n"
     ]
    }
   ],
   "source": [
    "%%timeit -n 10\n",
    "xgb_cls.fit(X_doubled, y_doubled)"
   ]
  },
  {
   "cell_type": "code",
   "execution_count": 40,
   "metadata": {
    "colab": {
     "base_uri": "https://localhost:8080/"
    },
    "id": "-O-CUE1GY_WF",
    "outputId": "2a9be6c2-25d9-4494-ff0b-32121d48c3f2"
   },
   "outputs": [
    {
     "name": "stdout",
     "output_type": "stream",
     "text": [
      "879 ms ± 108 ms per loop (mean ± std. dev. of 7 runs, 10 loops each)\n"
     ]
    }
   ],
   "source": [
    "%%timeit -n 10\n",
    "ivy_cls.fit(X_doubled, y_doubled)"
   ]
  },
  {
   "cell_type": "code",
   "execution_count": 43,
   "metadata": {
    "colab": {
     "base_uri": "https://localhost:8080/"
    },
    "id": "Cd8KSgO7XHVn",
    "outputId": "5b70c047-f6dc-4a23-9d6f-9187057f895b"
   },
   "outputs": [
    {
     "name": "stdout",
     "output_type": "stream",
     "text": [
      "28.5 ms ± 12.3 ms per loop (mean ± std. dev. of 7 runs, 100 loops each)\n"
     ]
    }
   ],
   "source": [
    "%timeit -n 100 xgb_cls.predict(X)"
   ]
  },
  {
   "cell_type": "code",
   "execution_count": 42,
   "metadata": {
    "colab": {
     "base_uri": "https://localhost:8080/"
    },
    "id": "D4yI_5SyXGU4",
    "outputId": "30f484b4-9829-4496-d883-a36f902073b4"
   },
   "outputs": [
    {
     "name": "stdout",
     "output_type": "stream",
     "text": [
      "1.65 ms ± 380 µs per loop (mean ± std. dev. of 7 runs, 100 loops each)\n"
     ]
    }
   ],
   "source": [
    "%timeit -n 100 ivy_cls.predict(X)"
   ]
  },
  {
   "cell_type": "markdown",
   "metadata": {
    "id": "8kGRw1Y31ljE"
   },
   "source": [
    "Speed-up factor seems in line with previous observations."
   ]
  },
  {
   "cell_type": "markdown",
   "metadata": {
    "id": "ZGT9anREknRq"
   },
   "source": [
    "# Evaluating Training Time vs. Number of Boosting Rounds\n",
    "Let's examine the training time for the original XGBClassifier and Ivy implementation across a range of boosting round values from 100 to 600 and plot the results in a graph, with tests conducted using the JAX backend and compilation."
   ]
  },
  {
   "cell_type": "code",
   "execution_count": null,
   "metadata": {
    "colab": {
     "base_uri": "https://localhost:8080/",
     "height": 49,
     "referenced_widgets": [
      "c4e1c90771f34a7dbefd7144fa160adc",
      "89a6b51ceac24701b136af1faa296282",
      "12ed270521f540deabf8d08d31106032",
      "b89513c01b5d4934ad2b26586a63cd80",
      "d12992a0581c440f8f91457e227bc9bd",
      "4de753e520554b12a457b2dc38f1543f",
      "b85e6cba003a43fca7d478901e5aee5c",
      "9e781933ef714a44bee6df63f6d102b7",
      "9b1b160c80374b45affcdde0fbef08fa",
      "9e18748b41394ebc984075f154a672dc",
      "fa2f210ba91443db88be7f3eaf30d29f"
     ]
    },
    "id": "_3XfLKCbY_WG",
    "outputId": "d6d33b3b-0400-4055-c6c6-a16fbcdad6b7"
   },
   "outputs": [],
   "source": [
    "num_boosting_rounds = [100, 200, 300, 400, 500, 600]\n",
    "ivy_elapsed_time = {\"training\":[], \"inference\":[]}\n",
    "xgb_elapsed_time = {\"training\":[], \"inference\":[]}\n",
    "\n",
    "for n in tqdm(num_boosting_rounds):\n",
    "    params[\"n_estimators\"] = n\n",
    "\n",
    "    ivy_cls = xgb_frontend.XGBClassifier(**params)\n",
    "    ivy_cls.compile(X, y)\n",
    "\n",
    "    xgb_cls = xgb.XGBClassifier(**params)\n",
    "\n",
    "    ivy_time = timeit(functools.partial(ivy_cls.fit, X, y), number=5)\n",
    "    ivy_elapsed_time[\"training\"].append(ivy_time)\n",
    "\n",
    "    xgb_time = timeit(functools.partial(xgb_cls.fit, X, y), number=5)\n",
    "    xgb_elapsed_time[\"training\"].append(xgb_time)\n",
    "\n",
    "    ivy_time = timeit(functools.partial(ivy_cls.predict, X), number=5)\n",
    "    ivy_elapsed_time[\"inference\"].append(ivy_time)\n",
    "\n",
    "    xgb_time = timeit(functools.partial(xgb_cls.predict, X), number=5)\n",
    "    xgb_elapsed_time[\"inference\"].append(xgb_time)"
   ]
  },
  {
   "cell_type": "code",
   "execution_count": 47,
   "metadata": {
    "colab": {
     "base_uri": "https://localhost:8080/",
     "height": 525
    },
    "id": "x-5mKtDpY_WG",
    "outputId": "eaa8a078-04e7-4c8b-aa4e-ef7616fa5304"
   },
   "outputs": [
    {
     "data": {
      "text/plain": [
       "Text(0.5, 1.0, 'XGBClassifier training time comparison')"
      ]
     },
     "execution_count": 47,
     "metadata": {},
     "output_type": "execute_result"
    },
    {
     "data": {
      "image/png": "[encoded data removed]",
      "text/plain": [
       "<Figure size 640x480 with 1 Axes>"
      ]
     },
     "metadata": {},
     "output_type": "display_data"
    }
   ],
   "source": [
    "plt.style.use(\"fivethirtyeight\")\n",
    "\n",
    "plt.plot(num_boosting_rounds, ivy_elapsed_time[\"training\"], label=\"Ivy (JAX)\")\n",
    "plt.plot(num_boosting_rounds, xgb_elapsed_time[\"training\"], label=\"XGBoost\")\n",
    "\n",
    "plt.legend(loc=\"best\")\n",
    "plt.xlabel(\"Number of boosting rounds\")\n",
    "plt.ylabel(\"Training time (s)\")\n",
    "plt.title(\"XGBClassifier training time comparison\")"
   ]
  },
  {
   "cell_type": "code",
   "execution_count": 48,
   "metadata": {
    "colab": {
     "base_uri": "https://localhost:8080/",
     "height": 525
    },
    "id": "eiZIO_egYijO",
    "outputId": "37ca35a9-316d-445c-f712-2752b17c7a2c"
   },
   "outputs": [
    {
     "data": {
      "text/plain": [
       "Text(0.5, 1.0, 'XGBClassifier inference time comparison')"
      ]
     },
     "execution_count": 48,
     "metadata": {},
     "output_type": "execute_result"
    },
    {
     "data": {
      "image/png": "[encoded data removed]",
      "text/plain": [
       "<Figure size 640x480 with 1 Axes>"
      ]
     },
     "metadata": {},
     "output_type": "display_data"
    }
   ],
   "source": [
    "plt.style.use(\"fivethirtyeight\")\n",
    "\n",
    "plt.plot(num_boosting_rounds, ivy_elapsed_time[\"inference\"], label=\"Ivy (JAX)\")\n",
    "plt.plot(num_boosting_rounds, xgb_elapsed_time[\"inference\"], label=\"XGBoost\")\n",
    "\n",
    "plt.legend(loc=\"best\")\n",
    "plt.xlabel(\"Number of boosting rounds\")\n",
    "plt.ylabel(\"Inference time (s)\")\n",
    "plt.title(\"XGBClassifier inference time comparison\")"
   ]
  },
  {
   "cell_type": "markdown",
   "metadata": {
    "id": "LdsjiS9I3cBv"
   },
   "source": [
    "We can observe an obvious trend: the longer we train - the more the gap in training time between both implementations."
   ]
  },
  {
   "cell_type": "markdown",
   "metadata": {
    "id": "v651vCk1m8la"
   },
   "source": [
    "# Training Time vs. Fractions of Data\n",
    "Let's compare training times on various fractions of data within the range of [0.5, 0.9] and visualize the results in a graph. These tests will be performed using the JAX backend and compilation.\n"
   ]
  },
  {
   "cell_type": "code",
   "execution_count": null,
   "metadata": {
    "colab": {
     "base_uri": "https://localhost:8080/",
     "height": 49,
     "referenced_widgets": [
      "9a91d47ff096497684690a6c8fce320c",
      "8c53856f99e84ae8a72315bf997ce457",
      "af92a16e1b08466faf2e257e557bd6bc",
      "536c3579e8564f38a3ca882ea9ec9465",
      "887c4cb766784450806a7f662bb04ceb",
      "7c53c63e0953425fba3bf15749ca12de",
      "92c6f13741204c5aa1dabdc09248f791",
      "a6df0aa141c549f4852d5d55d632b6b3",
      "5d5f2bf9433e4a71a4b9b80e04db9ae8",
      "5e16d3a8e9184cf18bbb1e2e9cf4dea5",
      "f8e86ad82461461a9ab3df78c8603b9e"
     ]
    },
    "id": "aIKeaUAAY_WG",
    "outputId": "ed99cd27-e244-4a3b-9320-ebafd7cb50fb"
   },
   "outputs": [],
   "source": [
    "sizes = [0.5, 0.6, 0.7, 0.8, 0.9]\n",
    "ivy_elapsed_time = {\"training\":[], \"inference\":[]}\n",
    "xgb_elapsed_time = {\"training\":[], \"inference\":[]}\n",
    "\n",
    "# let's slightly change the parameters this time\n",
    "params = {\n",
    "    \"objective\": \"binary:logistic\",\n",
    "    \"booster\": \"gblinear\",\n",
    "    \"n_estimators\": 300,\n",
    "    \"learning_rate\": 0.15,\n",
    "    \"reg_lambda\": 0.3,\n",
    "    \"reg_alpha\": 0.05,\n",
    "    \"base_margin\": None\n",
    "}\n",
    "\n",
    "for s in tqdm(sizes):\n",
    "    X_train, _, y_train, _ = train_test_split(X, y, train_size=s, random_state=15)\n",
    "\n",
    "    ivy_cls = xgb_frontend.XGBClassifier(**params)\n",
    "    ivy_cls.compile(X_train, y_train)\n",
    "\n",
    "    xgb_cls = xgb.XGBClassifier(**params)\n",
    "\n",
    "    ivy_time = timeit(functools.partial(ivy_cls.fit, X_train, y_train), number=5)\n",
    "    ivy_elapsed_time[\"training\"].append(ivy_time)\n",
    "\n",
    "    xgb_time = timeit(functools.partial(xgb_cls.fit, X_train, y_train), number=5)\n",
    "    xgb_elapsed_time[\"training\"].append(xgb_time)\n",
    "\n",
    "    ivy_time = timeit(functools.partial(ivy_cls.predict, X_train), number=5)\n",
    "    ivy_elapsed_time[\"inference\"].append(ivy_time)\n",
    "\n",
    "    xgb_time = timeit(functools.partial(xgb_cls.predict, X_train), number=5)\n",
    "    xgb_elapsed_time[\"inference\"].append(xgb_time)"
   ]
  },
  {
   "cell_type": "code",
   "execution_count": 50,
   "metadata": {
    "colab": {
     "base_uri": "https://localhost:8080/",
     "height": 525
    },
    "id": "65D_i_KhY_WG",
    "outputId": "3d55f106-5e12-45c5-9689-caf148759ab3"
   },
   "outputs": [
    {
     "data": {
      "text/plain": [
       "Text(0.5, 1.0, 'XGBClassifier training time comparison')"
      ]
     },
     "execution_count": 50,
     "metadata": {},
     "output_type": "execute_result"
    },
    {
     "data": {
      "image/png": "[encoded data removed]",
      "text/plain": [
       "<Figure size 640x480 with 1 Axes>"
      ]
     },
     "metadata": {},
     "output_type": "display_data"
    }
   ],
   "source": [
    "plt.style.use(\"fivethirtyeight\")\n",
    "\n",
    "plt.plot(sizes, ivy_elapsed_time[\"training\"], label=\"Ivy (JAX)\")\n",
    "plt.plot(sizes, xgb_elapsed_time[\"training\"], label=\"XGBoost\")\n",
    "\n",
    "plt.legend(loc=\"best\")\n",
    "plt.xlabel(\"Fraction of data\")\n",
    "plt.ylabel(\"Training time (s)\")\n",
    "plt.title(\"XGBClassifier training time comparison\")"
   ]
  },
  {
   "cell_type": "code",
   "execution_count": 51,
   "metadata": {
    "colab": {
     "base_uri": "https://localhost:8080/",
     "height": 525
    },
    "id": "ffoVIS0gZIZS",
    "outputId": "7e065ead-ce21-4cc4-c599-2a1483a8807e"
   },
   "outputs": [
    {
     "data": {
      "text/plain": [
       "Text(0.5, 1.0, 'XGBClassifier inference time comparison')"
      ]
     },
     "execution_count": 51,
     "metadata": {},
     "output_type": "execute_result"
    },
    {
     "data": {
      "image/png": "[encoded data removed]",
      "text/plain": [
       "<Figure size 640x480 with 1 Axes>"
      ]
     },
     "metadata": {},
     "output_type": "display_data"
    }
   ],
   "source": [
    "plt.style.use(\"fivethirtyeight\")\n",
    "\n",
    "plt.plot(sizes, ivy_elapsed_time[\"training\"], label=\"Ivy (JAX)\")\n",
    "plt.plot(sizes, xgb_elapsed_time[\"training\"], label=\"XGBoost\")\n",
    "\n",
    "plt.legend(loc=\"best\")\n",
    "plt.xlabel(\"Fraction of data\")\n",
    "plt.ylabel(\"Inference time (s)\")\n",
    "plt.title(\"XGBClassifier inference time comparison\")"
   ]
  },
  {
   "cell_type": "markdown",
   "metadata": {
    "id": "YP39ayBJnilv"
   },
   "source": [
    "We can observe a clear trend here: as we increase the amount of data, the gap in training time between both implementations widens. This has resulted in an impressive outcome; however, it's important to note that for small datasets, the original XGBClassifier tends to outperform our implementation.\n",
    "\n",
    "Now, as a sanity check, let's proceed to compare various metrics."
   ]
  },
  {
   "cell_type": "code",
   "execution_count": 52,
   "metadata": {
    "colab": {
     "base_uri": "https://localhost:8080/"
    },
    "id": "robyMIZZY_WH",
    "outputId": "989b3b4a-f8a4-4a08-b1bb-631b447bc650"
   },
   "outputs": [
    {
     "name": "stdout",
     "output_type": "stream",
     "text": [
      "IvyClassifier: \n",
      "               precision    recall  f1-score   support\n",
      "\n",
      "         0.0       0.94      1.00      0.97     95933\n",
      "         1.0       0.99      0.40      0.57      9874\n",
      "\n",
      "    accuracy                           0.94    105807\n",
      "   macro avg       0.97      0.70      0.77    105807\n",
      "weighted avg       0.95      0.94      0.93    105807\n",
      "\n",
      "\n",
      "XGBClassifier: \n",
      "               precision    recall  f1-score   support\n",
      "\n",
      "         0.0       0.94      1.00      0.97     95933\n",
      "         1.0       0.99      0.40      0.57      9874\n",
      "\n",
      "    accuracy                           0.94    105807\n",
      "   macro avg       0.97      0.70      0.77    105807\n",
      "weighted avg       0.95      0.94      0.93    105807\n",
      "\n"
     ]
    }
   ],
   "source": [
    "ivy_pred = ivy_cls.predict(X_train)\n",
    "xgb_pred = xgb_cls.predict(X_train)\n",
    "\n",
    "print(\"IvyClassifier: \\n\", classification_report(y_train, ivy_pred))\n",
    "print(\"\\nXGBClassifier: \\n\", classification_report(y_train, xgb_pred))"
   ]
  },
  {
   "cell_type": "markdown",
   "metadata": {
    "id": "scozGqQdnqRH"
   },
   "source": [
    "# Comparison of Metrics\n",
    "To wrap up, we will load a more balanced **Breast Cancer Classification** dataset, train both classifiers, and then compare the resulting metrics."
   ]
  },
  {
   "cell_type": "code",
   "execution_count": 53,
   "metadata": {
    "colab": {
     "base_uri": "https://localhost:8080/"
    },
    "id": "oTamLvGxY_WI",
    "outputId": "86c5355e-a9b2-4167-c823-ea366314593a"
   },
   "outputs": [
    {
     "name": "stdout",
     "output_type": "stream",
     "text": [
      "IvyClassifier: \n",
      "               precision    recall  f1-score   support\n",
      "\n",
      "         0.0       0.92      0.76      0.83        63\n",
      "         1.0       0.87      0.96      0.92       108\n",
      "\n",
      "    accuracy                           0.89       171\n",
      "   macro avg       0.90      0.86      0.88       171\n",
      "weighted avg       0.89      0.89      0.89       171\n",
      "\n",
      "\n",
      "XGBClassifier: \n",
      "               precision    recall  f1-score   support\n",
      "\n",
      "         0.0       0.92      0.76      0.83        63\n",
      "         1.0       0.87      0.96      0.92       108\n",
      "\n",
      "    accuracy                           0.89       171\n",
      "   macro avg       0.90      0.86      0.88       171\n",
      "weighted avg       0.89      0.89      0.89       171\n",
      "\n"
     ]
    }
   ],
   "source": [
    "X, y = prepare_data(load_breast_cancer(return_X_y=True))\n",
    "X_train, X_test, y_train, y_test = train_test_split(X, y, test_size=0.3, random_state=15)\n",
    "\n",
    "ivy_cls.compile(X_train, y_train)\n",
    "ivy_cls.fit(X_train, y_train)\n",
    "\n",
    "xgb_cls.fit(X_train, y_train)\n",
    "\n",
    "ivy_pred = ivy_cls.predict(X_test)\n",
    "xgb_pred = xgb_cls.predict(X_test)\n",
    "\n",
    "print(\"IvyClassifier: \\n\", classification_report(y_test, ivy_pred))\n",
    "print(\"\\nXGBClassifier: \\n\", classification_report(y_test, xgb_pred))"
   ]
  },
  {
   "cell_type": "markdown",
   "metadata": {
    "id": "v-EB-_a7nwVV"
   },
   "source": [
    "As you can see, they perfectly align. And that's a wrap! The results from both models are identical, but we've gained a substantial speed boost by using different backends in combination with Ivy!"
   ]
  }
 ],
 "metadata": {
  "accelerator": "GPU",
  "colab": {
   "gpuType": "T4",
   "provenance": []
  },
  "kernelspec": {
   "display_name": "Python 3",
   "name": "python3"
  },
  "language_info": {
   "codemirror_mode": {
    "name": "ipython",
    "version": 3
   },
   "file_extension": ".py",
   "mimetype": "text/x-python",
   "name": "python",
   "nbconvert_exporter": "python",
   "pygments_lexer": "ipython3",
   "version": "3.10.0"
  },
  "widgets": {
   "application/vnd.jupyter.widget-state+json": {
    "12ed270521f540deabf8d08d31106032": {
     "model_module": "@jupyter-widgets/controls",
     "model_module_version": "1.5.0",
     "model_name": "FloatProgressModel",
     "state": {
      "_dom_classes": [],
      "_model_module": "@jupyter-widgets/controls",
      "_model_module_version": "1.5.0",
      "_model_name": "FloatProgressModel",
      "_view_count": null,
      "_view_module": "@jupyter-widgets/controls",
      "_view_module_version": "1.5.0",
      "_view_name": "ProgressView",
      "bar_style": "success",
      "description": "",
      "description_tooltip": null,
      "layout": "IPY_MODEL_9e781933ef714a44bee6df63f6d102b7",
      "max": 6,
      "min": 0,
      "orientation": "horizontal",
      "style": "IPY_MODEL_9b1b160c80374b45affcdde0fbef08fa",
      "value": 6
     }
    },
    "4de753e520554b12a457b2dc38f1543f": {
     "model_module": "@jupyter-widgets/base",
     "model_module_version": "1.2.0",
     "model_name": "LayoutModel",
     "state": {
      "_model_module": "@jupyter-widgets/base",
      "_model_module_version": "1.2.0",
      "_model_name": "LayoutModel",
      "_view_count": null,
      "_view_module": "@jupyter-widgets/base",
      "_view_module_version": "1.2.0",
      "_view_name": "LayoutView",
      "align_content": null,
      "align_items": null,
      "align_self": null,
      "border": null,
      "bottom": null,
      "display": null,
      "flex": null,
      "flex_flow": null,
      "grid_area": null,
      "grid_auto_columns": null,
      "grid_auto_flow": null,
      "grid_auto_rows": null,
      "grid_column": null,
      "grid_gap": null,
      "grid_row": null,
      "grid_template_areas": null,
      "grid_template_columns": null,
      "grid_template_rows": null,
      "height": null,
      "justify_content": null,
      "justify_items": null,
      "left": null,
      "margin": null,
      "max_height": null,
      "max_width": null,
      "min_height": null,
      "min_width": null,
      "object_fit": null,
      "object_position": null,
      "order": null,
      "overflow": null,
      "overflow_x": null,
      "overflow_y": null,
      "padding": null,
      "right": null,
      "top": null,
      "visibility": null,
      "width": null
     }
    },
    "536c3579e8564f38a3ca882ea9ec9465": {
     "model_module": "@jupyter-widgets/controls",
     "model_module_version": "1.5.0",
     "model_name": "HTMLModel",
     "state": {
      "_dom_classes": [],
      "_model_module": "@jupyter-widgets/controls",
      "_model_module_version": "1.5.0",
      "_model_name": "HTMLModel",
      "_view_count": null,
      "_view_module": "@jupyter-widgets/controls",
      "_view_module_version": "1.5.0",
      "_view_name": "HTMLView",
      "description": "",
      "description_tooltip": null,
      "layout": "IPY_MODEL_5e16d3a8e9184cf18bbb1e2e9cf4dea5",
      "placeholder": "​",
      "style": "IPY_MODEL_f8e86ad82461461a9ab3df78c8603b9e",
      "value": " 5/5 [03:46&lt;00:00, 45.25s/it]"
     }
    },
    "5d5f2bf9433e4a71a4b9b80e04db9ae8": {
     "model_module": "@jupyter-widgets/controls",
     "model_module_version": "1.5.0",
     "model_name": "ProgressStyleModel",
     "state": {
      "_model_module": "@jupyter-widgets/controls",
      "_model_module_version": "1.5.0",
      "_model_name": "ProgressStyleModel",
      "_view_count": null,
      "_view_module": "@jupyter-widgets/base",
      "_view_module_version": "1.2.0",
      "_view_name": "StyleView",
      "bar_color": null,
      "description_width": ""
     }
    },
    "5e16d3a8e9184cf18bbb1e2e9cf4dea5": {
     "model_module": "@jupyter-widgets/base",
     "model_module_version": "1.2.0",
     "model_name": "LayoutModel",
     "state": {
      "_model_module": "@jupyter-widgets/base",
      "_model_module_version": "1.2.0",
      "_model_name": "LayoutModel",
      "_view_count": null,
      "_view_module": "@jupyter-widgets/base",
      "_view_module_version": "1.2.0",
      "_view_name": "LayoutView",
      "align_content": null,
      "align_items": null,
      "align_self": null,
      "border": null,
      "bottom": null,
      "display": null,
      "flex": null,
      "flex_flow": null,
      "grid_area": null,
      "grid_auto_columns": null,
      "grid_auto_flow": null,
      "grid_auto_rows": null,
      "grid_column": null,
      "grid_gap": null,
      "grid_row": null,
      "grid_template_areas": null,
      "grid_template_columns": null,
      "grid_template_rows": null,
      "height": null,
      "justify_content": null,
      "justify_items": null,
      "left": null,
      "margin": null,
      "max_height": null,
      "max_width": null,
      "min_height": null,
      "min_width": null,
      "object_fit": null,
      "object_position": null,
      "order": null,
      "overflow": null,
      "overflow_x": null,
      "overflow_y": null,
      "padding": null,
      "right": null,
      "top": null,
      "visibility": null,
      "width": null
     }
    },
    "7c53c63e0953425fba3bf15749ca12de": {
     "model_module": "@jupyter-widgets/base",
     "model_module_version": "1.2.0",
     "model_name": "LayoutModel",
     "state": {
      "_model_module": "@jupyter-widgets/base",
      "_model_module_version": "1.2.0",
      "_model_name": "LayoutModel",
      "_view_count": null,
      "_view_module": "@jupyter-widgets/base",
      "_view_module_version": "1.2.0",
      "_view_name": "LayoutView",
      "align_content": null,
      "align_items": null,
      "align_self": null,
      "border": null,
      "bottom": null,
      "display": null,
      "flex": null,
      "flex_flow": null,
      "grid_area": null,
      "grid_auto_columns": null,
      "grid_auto_flow": null,
      "grid_auto_rows": null,
      "grid_column": null,
      "grid_gap": null,
      "grid_row": null,
      "grid_template_areas": null,
      "grid_template_columns": null,
      "grid_template_rows": null,
      "height": null,
      "justify_content": null,
      "justify_items": null,
      "left": null,
      "margin": null,
      "max_height": null,
      "max_width": null,
      "min_height": null,
      "min_width": null,
      "object_fit": null,
      "object_position": null,
      "order": null,
      "overflow": null,
      "overflow_x": null,
      "overflow_y": null,
      "padding": null,
      "right": null,
      "top": null,
      "visibility": null,
      "width": null
     }
    },
    "887c4cb766784450806a7f662bb04ceb": {
     "model_module": "@jupyter-widgets/base",
     "model_module_version": "1.2.0",
     "model_name": "LayoutModel",
     "state": {
      "_model_module": "@jupyter-widgets/base",
      "_model_module_version": "1.2.0",
      "_model_name": "LayoutModel",
      "_view_count": null,
      "_view_module": "@jupyter-widgets/base",
      "_view_module_version": "1.2.0",
      "_view_name": "LayoutView",
      "align_content": null,
      "align_items": null,
      "align_self": null,
      "border": null,
      "bottom": null,
      "display": null,
      "flex": null,
      "flex_flow": null,
      "grid_area": null,
      "grid_auto_columns": null,
      "grid_auto_flow": null,
      "grid_auto_rows": null,
      "grid_column": null,
      "grid_gap": null,
      "grid_row": null,
      "grid_template_areas": null,
      "grid_template_columns": null,
      "grid_template_rows": null,
      "height": null,
      "justify_content": null,
      "justify_items": null,
      "left": null,
      "margin": null,
      "max_height": null,
      "max_width": null,
      "min_height": null,
      "min_width": null,
      "object_fit": null,
      "object_position": null,
      "order": null,
      "overflow": null,
      "overflow_x": null,
      "overflow_y": null,
      "padding": null,
      "right": null,
      "top": null,
      "visibility": null,
      "width": null
     }
    },
    "89a6b51ceac24701b136af1faa296282": {
     "model_module": "@jupyter-widgets/controls",
     "model_module_version": "1.5.0",
     "model_name": "HTMLModel",
     "state": {
      "_dom_classes": [],
      "_model_module": "@jupyter-widgets/controls",
      "_model_module_version": "1.5.0",
      "_model_name": "HTMLModel",
      "_view_count": null,
      "_view_module": "@jupyter-widgets/controls",
      "_view_module_version": "1.5.0",
      "_view_name": "HTMLView",
      "description": "",
      "description_tooltip": null,
      "layout": "IPY_MODEL_4de753e520554b12a457b2dc38f1543f",
      "placeholder": "​",
      "style": "IPY_MODEL_b85e6cba003a43fca7d478901e5aee5c",
      "value": "100%"
     }
    },
    "8c53856f99e84ae8a72315bf997ce457": {
     "model_module": "@jupyter-widgets/controls",
     "model_module_version": "1.5.0",
     "model_name": "HTMLModel",
     "state": {
      "_dom_classes": [],
      "_model_module": "@jupyter-widgets/controls",
      "_model_module_version": "1.5.0",
      "_model_name": "HTMLModel",
      "_view_count": null,
      "_view_module": "@jupyter-widgets/controls",
      "_view_module_version": "1.5.0",
      "_view_name": "HTMLView",
      "description": "",
      "description_tooltip": null,
      "layout": "IPY_MODEL_7c53c63e0953425fba3bf15749ca12de",
      "placeholder": "​",
      "style": "IPY_MODEL_92c6f13741204c5aa1dabdc09248f791",
      "value": "100%"
     }
    },
    "92c6f13741204c5aa1dabdc09248f791": {
     "model_module": "@jupyter-widgets/controls",
     "model_module_version": "1.5.0",
     "model_name": "DescriptionStyleModel",
     "state": {
      "_model_module": "@jupyter-widgets/controls",
      "_model_module_version": "1.5.0",
      "_model_name": "DescriptionStyleModel",
      "_view_count": null,
      "_view_module": "@jupyter-widgets/base",
      "_view_module_version": "1.2.0",
      "_view_name": "StyleView",
      "description_width": ""
     }
    },
    "9a91d47ff096497684690a6c8fce320c": {
     "model_module": "@jupyter-widgets/controls",
     "model_module_version": "1.5.0",
     "model_name": "HBoxModel",
     "state": {
      "_dom_classes": [],
      "_model_module": "@jupyter-widgets/controls",
      "_model_module_version": "1.5.0",
      "_model_name": "HBoxModel",
      "_view_count": null,
      "_view_module": "@jupyter-widgets/controls",
      "_view_module_version": "1.5.0",
      "_view_name": "HBoxView",
      "box_style": "",
      "children": [
       "IPY_MODEL_8c53856f99e84ae8a72315bf997ce457",
       "IPY_MODEL_af92a16e1b08466faf2e257e557bd6bc",
       "IPY_MODEL_536c3579e8564f38a3ca882ea9ec9465"
      ],
      "layout": "IPY_MODEL_887c4cb766784450806a7f662bb04ceb"
     }
    },
    "9b1b160c80374b45affcdde0fbef08fa": {
     "model_module": "@jupyter-widgets/controls",
     "model_module_version": "1.5.0",
     "model_name": "ProgressStyleModel",
     "state": {
      "_model_module": "@jupyter-widgets/controls",
      "_model_module_version": "1.5.0",
      "_model_name": "ProgressStyleModel",
      "_view_count": null,
      "_view_module": "@jupyter-widgets/base",
      "_view_module_version": "1.2.0",
      "_view_name": "StyleView",
      "bar_color": null,
      "description_width": ""
     }
    },
    "9e18748b41394ebc984075f154a672dc": {
     "model_module": "@jupyter-widgets/base",
     "model_module_version": "1.2.0",
     "model_name": "LayoutModel",
     "state": {
      "_model_module": "@jupyter-widgets/base",
      "_model_module_version": "1.2.0",
      "_model_name": "LayoutModel",
      "_view_count": null,
      "_view_module": "@jupyter-widgets/base",
      "_view_module_version": "1.2.0",
      "_view_name": "LayoutView",
      "align_content": null,
      "align_items": null,
      "align_self": null,
      "border": null,
      "bottom": null,
      "display": null,
      "flex": null,
      "flex_flow": null,
      "grid_area": null,
      "grid_auto_columns": null,
      "grid_auto_flow": null,
      "grid_auto_rows": null,
      "grid_column": null,
      "grid_gap": null,
      "grid_row": null,
      "grid_template_areas": null,
      "grid_template_columns": null,
      "grid_template_rows": null,
      "height": null,
      "justify_content": null,
      "justify_items": null,
      "left": null,
      "margin": null,
      "max_height": null,
      "max_width": null,
      "min_height": null,
      "min_width": null,
      "object_fit": null,
      "object_position": null,
      "order": null,
      "overflow": null,
      "overflow_x": null,
      "overflow_y": null,
      "padding": null,
      "right": null,
      "top": null,
      "visibility": null,
      "width": null
     }
    },
    "9e781933ef714a44bee6df63f6d102b7": {
     "model_module": "@jupyter-widgets/base",
     "model_module_version": "1.2.0",
     "model_name": "LayoutModel",
     "state": {
      "_model_module": "@jupyter-widgets/base",
      "_model_module_version": "1.2.0",
      "_model_name": "LayoutModel",
      "_view_count": null,
      "_view_module": "@jupyter-widgets/base",
      "_view_module_version": "1.2.0",
      "_view_name": "LayoutView",
      "align_content": null,
      "align_items": null,
      "align_self": null,
      "border": null,
      "bottom": null,
      "display": null,
      "flex": null,
      "flex_flow": null,
      "grid_area": null,
      "grid_auto_columns": null,
      "grid_auto_flow": null,
      "grid_auto_rows": null,
      "grid_column": null,
      "grid_gap": null,
      "grid_row": null,
      "grid_template_areas": null,
      "grid_template_columns": null,
      "grid_template_rows": null,
      "height": null,
      "justify_content": null,
      "justify_items": null,
      "left": null,
      "margin": null,
      "max_height": null,
      "max_width": null,
      "min_height": null,
      "min_width": null,
      "object_fit": null,
      "object_position": null,
      "order": null,
      "overflow": null,
      "overflow_x": null,
      "overflow_y": null,
      "padding": null,
      "right": null,
      "top": null,
      "visibility": null,
      "width": null
     }
    },
    "a6df0aa141c549f4852d5d55d632b6b3": {
     "model_module": "@jupyter-widgets/base",
     "model_module_version": "1.2.0",
     "model_name": "LayoutModel",
     "state": {
      "_model_module": "@jupyter-widgets/base",
      "_model_module_version": "1.2.0",
      "_model_name": "LayoutModel",
      "_view_count": null,
      "_view_module": "@jupyter-widgets/base",
      "_view_module_version": "1.2.0",
      "_view_name": "LayoutView",
      "align_content": null,
      "align_items": null,
      "align_self": null,
      "border": null,
      "bottom": null,
      "display": null,
      "flex": null,
      "flex_flow": null,
      "grid_area": null,
      "grid_auto_columns": null,
      "grid_auto_flow": null,
      "grid_auto_rows": null,
      "grid_column": null,
      "grid_gap": null,
      "grid_row": null,
      "grid_template_areas": null,
      "grid_template_columns": null,
      "grid_template_rows": null,
      "height": null,
      "justify_content": null,
      "justify_items": null,
      "left": null,
      "margin": null,
      "max_height": null,
      "max_width": null,
      "min_height": null,
      "min_width": null,
      "object_fit": null,
      "object_position": null,
      "order": null,
      "overflow": null,
      "overflow_x": null,
      "overflow_y": null,
      "padding": null,
      "right": null,
      "top": null,
      "visibility": null,
      "width": null
     }
    },
    "af92a16e1b08466faf2e257e557bd6bc": {
     "model_module": "@jupyter-widgets/controls",
     "model_module_version": "1.5.0",
     "model_name": "FloatProgressModel",
     "state": {
      "_dom_classes": [],
      "_model_module": "@jupyter-widgets/controls",
      "_model_module_version": "1.5.0",
      "_model_name": "FloatProgressModel",
      "_view_count": null,
      "_view_module": "@jupyter-widgets/controls",
      "_view_module_version": "1.5.0",
      "_view_name": "ProgressView",
      "bar_style": "success",
      "description": "",
      "description_tooltip": null,
      "layout": "IPY_MODEL_a6df0aa141c549f4852d5d55d632b6b3",
      "max": 5,
      "min": 0,
      "orientation": "horizontal",
      "style": "IPY_MODEL_5d5f2bf9433e4a71a4b9b80e04db9ae8",
      "value": 5
     }
    },
    "b85e6cba003a43fca7d478901e5aee5c": {
     "model_module": "@jupyter-widgets/controls",
     "model_module_version": "1.5.0",
     "model_name": "DescriptionStyleModel",
     "state": {
      "_model_module": "@jupyter-widgets/controls",
      "_model_module_version": "1.5.0",
      "_model_name": "DescriptionStyleModel",
      "_view_count": null,
      "_view_module": "@jupyter-widgets/base",
      "_view_module_version": "1.2.0",
      "_view_name": "StyleView",
      "description_width": ""
     }
    },
    "b89513c01b5d4934ad2b26586a63cd80": {
     "model_module": "@jupyter-widgets/controls",
     "model_module_version": "1.5.0",
     "model_name": "HTMLModel",
     "state": {
      "_dom_classes": [],
      "_model_module": "@jupyter-widgets/controls",
      "_model_module_version": "1.5.0",
      "_model_name": "HTMLModel",
      "_view_count": null,
      "_view_module": "@jupyter-widgets/controls",
      "_view_module_version": "1.5.0",
      "_view_name": "HTMLView",
      "description": "",
      "description_tooltip": null,
      "layout": "IPY_MODEL_9e18748b41394ebc984075f154a672dc",
      "placeholder": "​",
      "style": "IPY_MODEL_fa2f210ba91443db88be7f3eaf30d29f",
      "value": " 6/6 [04:50&lt;00:00, 53.84s/it]"
     }
    },
    "c4e1c90771f34a7dbefd7144fa160adc": {
     "model_module": "@jupyter-widgets/controls",
     "model_module_version": "1.5.0",
     "model_name": "HBoxModel",
     "state": {
      "_dom_classes": [],
      "_model_module": "@jupyter-widgets/controls",
      "_model_module_version": "1.5.0",
      "_model_name": "HBoxModel",
      "_view_count": null,
      "_view_module": "@jupyter-widgets/controls",
      "_view_module_version": "1.5.0",
      "_view_name": "HBoxView",
      "box_style": "",
      "children": [
       "IPY_MODEL_89a6b51ceac24701b136af1faa296282",
       "IPY_MODEL_12ed270521f540deabf8d08d31106032",
       "IPY_MODEL_b89513c01b5d4934ad2b26586a63cd80"
      ],
      "layout": "IPY_MODEL_d12992a0581c440f8f91457e227bc9bd"
     }
    },
    "d12992a0581c440f8f91457e227bc9bd": {
     "model_module": "@jupyter-widgets/base",
     "model_module_version": "1.2.0",
     "model_name": "LayoutModel",
     "state": {
      "_model_module": "@jupyter-widgets/base",
      "_model_module_version": "1.2.0",
      "_model_name": "LayoutModel",
      "_view_count": null,
      "_view_module": "@jupyter-widgets/base",
      "_view_module_version": "1.2.0",
      "_view_name": "LayoutView",
      "align_content": null,
      "align_items": null,
      "align_self": null,
      "border": null,
      "bottom": null,
      "display": null,
      "flex": null,
      "flex_flow": null,
      "grid_area": null,
      "grid_auto_columns": null,
      "grid_auto_flow": null,
      "grid_auto_rows": null,
      "grid_column": null,
      "grid_gap": null,
      "grid_row": null,
      "grid_template_areas": null,
      "grid_template_columns": null,
      "grid_template_rows": null,
      "height": null,
      "justify_content": null,
      "justify_items": null,
      "left": null,
      "margin": null,
      "max_height": null,
      "max_width": null,
      "min_height": null,
      "min_width": null,
      "object_fit": null,
      "object_position": null,
      "order": null,
      "overflow": null,
      "overflow_x": null,
      "overflow_y": null,
      "padding": null,
      "right": null,
      "top": null,
      "visibility": null,
      "width": null
     }
    },
    "f8e86ad82461461a9ab3df78c8603b9e": {
     "model_module": "@jupyter-widgets/controls",
     "model_module_version": "1.5.0",
     "model_name": "DescriptionStyleModel",
     "state": {
      "_model_module": "@jupyter-widgets/controls",
      "_model_module_version": "1.5.0",
      "_model_name": "DescriptionStyleModel",
      "_view_count": null,
      "_view_module": "@jupyter-widgets/base",
      "_view_module_version": "1.2.0",
      "_view_name": "StyleView",
      "description_width": ""
     }
    },
    "fa2f210ba91443db88be7f3eaf30d29f": {
     "model_module": "@jupyter-widgets/controls",
     "model_module_version": "1.5.0",
     "model_name": "DescriptionStyleModel",
     "state": {
      "_model_module": "@jupyter-widgets/controls",
      "_model_module_version": "1.5.0",
      "_model_name": "DescriptionStyleModel",
      "_view_count": null,
      "_view_module": "@jupyter-widgets/base",
      "_view_module_version": "1.2.0",
      "_view_name": "StyleView",
      "description_width": ""
     }
    }
   }
  }
 },
 "nbformat": 4,
 "nbformat_minor": 0
}
