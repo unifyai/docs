{
 "cells": [
  {
   "attachments": {},
   "cell_type": "markdown",
   "metadata": {},
   "source": [
    "# Write Ivy code "
   ]
  },
  {
   "attachments": {},
   "cell_type": "markdown",
   "metadata": {},
   "source": [
    "Get familiar with Ivy's basic concepts and start writing framework-agnostic code."
   ]
  },
  {
   "attachments": {},
   "cell_type": "markdown",
   "metadata": {},
   "source": [
    "## Contents\n",
    "\n",
    "* [Installing Ivy](#installing-ivy)\n",
    "* [Importing Ivy](#importing-Ivy)\n",
    "* [Ivy Backend Handler](#ivy-backend-handler)\n",
    "* [Ivy Data Structures](#data-structures)\n",
    "* [Ivy Functional API](#ivy-functional-api)\n",
    "* [Ivy Stateful API](#ivy-stateful-api)\n",
    "* [Roundup](#round-up)"
   ]
  },
  {
   "attachments": {},
   "cell_type": "markdown",
   "metadata": {},
   "source": [
    "### Installing Ivy <a class=\"anchor\" id=\"installing-ivy\"></a>\n",
    "\n",
    "⚠️ If you are running this notebook in Colab, you will have to install `Ivy` and some dependencies manually. You can do so by running the cell below ⬇️\n",
    "\n",
    "If you want to run the notebook locally but don't have Ivy installed just yet, you can check out the [Get Started section of the docs.](https://unify.ai/docs/ivy/overview/get_started.html)"
   ]
  },
  {
   "cell_type": "code",
   "execution_count": null,
   "metadata": {},
   "outputs": [],
   "source": [
    "!pip install ivy"
   ]
  },
  {
   "attachments": {},
   "cell_type": "markdown",
   "metadata": {},
   "source": [
    "In this introduction we'll go over the basics of using Ivy to write your own framework-indepent, \n",
    "future-proof code!\n",
    "\n",
    "If you want to delve deeper into the theory behind the contents of this notebook you \n",
    "can check out the [Design](https://lets-unify.ai/docs/ivy/overview/design.html) and the [Deep Dive](https://lets-unify.ai/docs/ivy/overview/deep_dive.html) sections of the documentation!"
   ]
  },
  {
   "attachments": {},
   "cell_type": "markdown",
   "metadata": {},
   "source": [
    "### Importing Ivy <a class=\"anchor\" id=\"importing-ivy\"></a>\n",
    "First of all, let's import Ivy!"
   ]
  },
  {
   "cell_type": "code",
   "execution_count": 2,
   "metadata": {},
   "outputs": [],
   "source": [
    "import ivy"
   ]
  },
  {
   "attachments": {},
   "cell_type": "markdown",
   "metadata": {},
   "source": [
    "### Ivy Backend Handler <a class=\"anchor\" id=\"ivy-backend-handler\"></a>"
   ]
  },
  {
   "attachments": {},
   "cell_type": "markdown",
   "metadata": {},
   "source": [
    "Ivy, when used as a ML framework, is esentially an abstraction layer that supports multiple frameworks as the backend. \n",
    "This means that any code written in Ivy can be executed in any of the supported frameworks, with their framework-specific data structures, functions, optimizations, quirks and perks, all managed by Ivy under the hood."
   ]
  },
  {
   "attachments": {},
   "cell_type": "markdown",
   "metadata": {},
   "source": [
    "To change the backend, we can simply call `ivy.set_backend` with the appropiate framework passed as a string. \n",
    "This is the simplest way to interact with the **Backend Handler** submodule, which keeps track of the \n",
    "current backend and links Ivy's objects and functions with the appropriate framework-specific ones. \n",
    "\n",
    "For example:"
   ]
  },
  {
   "cell_type": "code",
   "execution_count": 4,
   "metadata": {},
   "outputs": [],
   "source": [
    "ivy.set_backend(\"tensorflow\")"
   ]
  },
  {
   "attachments": {},
   "cell_type": "markdown",
   "metadata": {},
   "source": [
    "### Data Structures <a class=\"anchor\" id=\"ivy-data-structures\"></a>"
   ]
  },
  {
   "attachments": {},
   "cell_type": "markdown",
   "metadata": {},
   "source": [
    "The basic data structure in Ivy is the `ivy.Array`. This is an abstraction of the `array` classes\n",
    "of the supported frameworks. Likewise, we also have `ivy.NativeArray`, which is an alias for the `array`\n",
    "class of the selected backend.\n",
    "\n",
    "Lastly, there is another structure, the `ivy.Container`, which is a subclass of `dict` optimized for recursive\n",
    "operations, you can learn more about it [here](https://unify.ai/docs/ivy/overview/design/ivy_as_a_framework/ivy_container.html)!"
   ]
  },
  {
   "attachments": {},
   "cell_type": "markdown",
   "metadata": {},
   "source": [
    "Let's create an array using `ivy.array()`. In a similar fashion, we can use `ivy.native_array()` to create a \n",
    "`torch.Tensor`, as the backend is now `torch`."
   ]
  },
  {
   "cell_type": "code",
   "execution_count": 10,
   "metadata": {},
   "outputs": [
    {
     "name": "stdout",
     "output_type": "stream",
     "text": [
      "<class 'ivy.data_classes.array.array.Array'>\n",
      "<class 'torch.Tensor'>\n"
     ]
    }
   ],
   "source": [
    "ivy.set_backend(\"torch\")\n",
    "\n",
    "x = ivy.array([1, 2, 3])\n",
    "print(type(x))\n",
    "\n",
    "x = ivy.native_array([1, 2, 3])\n",
    "print(type(x))"
   ]
  },
  {
   "attachments": {},
   "cell_type": "markdown",
   "metadata": {},
   "source": [
    "### Ivy Functional API <a class=\"anchor\" id=\"ivy-functional-api\"></a>"
   ]
  },
  {
   "attachments": {},
   "cell_type": "markdown",
   "metadata": {},
   "source": [
    "Ivy does not implement its own low-level (C++/CUDA) backend for its functions. Instead, it wraps\n",
    "the functional API of existing frameworks, unifying their fundamental functions under a common signature.\n",
    "For example, let's take a look at `ivy.matmul()`:"
   ]
  },
  {
   "cell_type": "code",
   "execution_count": 11,
   "metadata": {},
   "outputs": [
    {
     "name": "stdout",
     "output_type": "stream",
     "text": [
      "<class 'jaxlib.xla_extension.ArrayImpl'>\n",
      "<class 'tensorflow.python.framework.ops.EagerTensor'>\n",
      "<class 'torch.Tensor'>\n"
     ]
    }
   ],
   "source": [
    "ivy.set_backend(\"jax\")\n",
    "x1, x2 = ivy.array([[1], [2], [3]]), ivy.array([[1, 2, 3]])\n",
    "output = ivy.matmul(x1, x2)\n",
    "print(type(output.to_native()))\n",
    "\n",
    "ivy.set_backend(\"tensorflow\")\n",
    "x1, x2 = ivy.array([[1], [2], [3]]), ivy.array([[1, 2, 3]])\n",
    "output = ivy.matmul(x1, x2)\n",
    "print(type(output.to_native()))\n",
    "\n",
    "ivy.set_backend(\"torch\")\n",
    "x1, x2 = ivy.array([[1], [2], [3]]), ivy.array([[1, 2, 3]])\n",
    "output = ivy.matmul(x1, x2)\n",
    "print(type(output.to_native()))"
   ]
  },
  {
   "attachments": {},
   "cell_type": "markdown",
   "metadata": {},
   "source": [
    "The output arrays above are `ivy.Array` instances, which is why we need to call the `to_native()` method to\n",
    "retrieve the underlying, native array.\n",
    "\n",
    "However, if you want the functions to return the native arrays directly, you can disable the `array_mode` of Ivy\n",
    "using `ivy.set_array_mode()`."
   ]
  },
  {
   "cell_type": "code",
   "execution_count": 12,
   "metadata": {},
   "outputs": [
    {
     "name": "stdout",
     "output_type": "stream",
     "text": [
      "<class 'jaxlib.xla_extension.ArrayImpl'>\n",
      "<class 'tensorflow.python.framework.ops.EagerTensor'>\n",
      "<class 'torch.Tensor'>\n"
     ]
    }
   ],
   "source": [
    "ivy.set_array_mode(False)\n",
    "\n",
    "ivy.set_backend(\"jax\")\n",
    "x1, x2 = ivy.native_array([[1], [2], [3]]), ivy.native_array([[1, 2, 3]])\n",
    "output = ivy.matmul(x1, x2)\n",
    "print(type(output))\n",
    "\n",
    "ivy.set_backend(\"tensorflow\")\n",
    "x1, x2 = ivy.native_array([[1], [2], [3]]), ivy.native_array([[1, 2, 3]])\n",
    "output = ivy.matmul(x1, x2)\n",
    "print(type(output))\n",
    "\n",
    "ivy.set_backend(\"torch\")\n",
    "x1, x2 = ivy.native_array([[1], [2], [3]]), ivy.native_array([[1, 2, 3]])\n",
    "output = ivy.matmul(x1, x2)\n",
    "print(type(output))\n",
    "\n",
    "ivy.set_array_mode(True)"
   ]
  },
  {
   "attachments": {},
   "cell_type": "markdown",
   "metadata": {},
   "source": [
    "Keeping this in mind, you can build any function you want as a composition of Ivy functions. When executed,\n",
    "this function will ultimately call the current backend functions from its functional API."
   ]
  },
  {
   "cell_type": "code",
   "execution_count": 13,
   "metadata": {},
   "outputs": [],
   "source": [
    "def sigmoid(z):\n",
    "    return ivy.divide(1, (1 + ivy.exp(-z)))"
   ]
  },
  {
   "attachments": {},
   "cell_type": "markdown",
   "metadata": {},
   "source": [
    "### Ivy Stateful API <a class=\"anchor\" id=\"ivy-stateful-api\"></a>"
   ]
  },
  {
   "attachments": {},
   "cell_type": "markdown",
   "metadata": {},
   "source": [
    "Alongside the Functional API, Ivy also has a stateful API, which builds on its functional API and the\n",
    "`ivy.Container` class to provide high-level classes such as optimizers, network layers, or trainable modules.\n",
    "\n",
    "The most important stateful class within Ivy is `ivy.Module`, which can be used to create trainable layers\n",
    "and entire networks. Given the importance of this class, we will explore it further in the \n",
    "[Write a model using Ivy](09_write_a_model_using_ivy.html) tutorial!"
   ]
  },
  {
   "attachments": {},
   "cell_type": "markdown",
   "metadata": {},
   "source": [
    "### Round Up"
   ]
  },
  {
   "attachments": {},
   "cell_type": "markdown",
   "metadata": {},
   "source": [
    "Congratulations! There is much more to come, but you now have a basic understanding of Ivy and how it can be used to write framework-independent, future-proof code! Now that you have a good foundation, let's keep exploring Ivy's tools and their powerful features! 🚀"
   ]
  }
 ],
 "metadata": {
  "kernelspec": {
   "display_name": "Python 3 (ipykernel)",
   "language": "python",
   "name": "python3"
  },
  "language_info": {
   "codemirror_mode": {
    "name": "ipython",
    "version": 3
   },
   "file_extension": ".py",
   "mimetype": "text/x-python",
   "name": "python",
   "nbconvert_exporter": "python",
   "pygments_lexer": "ipython3",
   "version": "3.8.10"
  }
 },
 "nbformat": 4,
 "nbformat_minor": 2
}
